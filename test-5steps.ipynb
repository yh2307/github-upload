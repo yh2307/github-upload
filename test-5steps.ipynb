{
 "cells": [
  {
   "cell_type": "code",
   "execution_count": 18,
   "metadata": {},
   "outputs": [
    {
     "name": "stdout",
     "output_type": "stream",
     "text": [
      "读取数据2020-03-20 16:32:46.710765\n",
      "验证集图片共有413张\n",
      "完成\n"
     ]
    }
   ],
   "source": [
    "from keras.models import Sequential\n",
    "from keras.layers import Input,Conv2D,Lambda,LeakyReLU,Activation,Concatenate,MaxPooling2D,BatchNormalization,Flatten,Dense,Dropout,GlobalAveragePooling2D\n",
    "from keras.preprocessing.image import ImageDataGenerator, array_to_img, img_to_array, load_img\n",
    "from keras.optimizers import Adam\n",
    "from sklearn.model_selection import train_test_split\n",
    "from keras.utils import to_categorical\n",
    "from matplotlib import pyplot as plt\n",
    "from keras.applications.mobilenet import MobileNet\n",
    "#import tensorflow as tf\n",
    "from keras.models import Model\n",
    "from tensorflow.keras import metrics\n",
    "import numpy as np #矩阵库\n",
    "import cv2         #图像处理库\n",
    "import matplotlib #绘图库\n",
    "import pandas as pd      #数据处理库\n",
    "import os\n",
    "import sys\n",
    "import random\n",
    "from datetime import datetime\n",
    "from subprocess import check_output\n",
    "\n",
    "ImageValData={}\n",
    "def loadTrainData(trainDir): #读取训练图像数据及处理\n",
    "    global ImageValData\n",
    "    \n",
    "    images=os.listdir(trainDir)\n",
    "    print(\"验证集图片共有\"+str((len(images)))+\"张\")\n",
    "    \n",
    "    for imageFileName in images:\n",
    "        imageFullPath=os.path.join(trainDir,imageFileName)\n",
    "        img=cv2.imread(imageFullPath)\n",
    "        arr=img\n",
    "        #print(arr.shape)\n",
    "          #提取各颜色空间并生成LGI颜色空间\n",
    "        clahe = cv2.createCLAHE(clipLimit=2.0, tileGridSize=(4,4))\n",
    "        Blue=arr[:,:,0]\n",
    "        Green=arr[:,:,1]\n",
    "        Red=arr[:,:,2]\n",
    "        #print(Green.shape)\n",
    "        Green=clahe.apply(Green)\n",
    "        #print(Green.shape)\n",
    "        Lab=cv2.cvtColor(arr,cv2.COLOR_BGR2Lab)\n",
    "        Light=Lab[:,:,0]\n",
    "        Light=clahe.apply(Light)\n",
    "        #print(Light.shape)\n",
    "        I1=cv2.cvtColor(arr,cv2.COLOR_BGR2GRAY)\n",
    "        #print(I1.shape)\n",
    "        I1=clahe.apply(I1)\n",
    "        arr=cv2.merge([Green,Light,I1])\n",
    "        dim0=arr.shape[0]#高度\n",
    "        dim1=arr.shape[1]#宽度\n",
    "        dim2=arr.shape[2]#深度\n",
    "        #调整图片尺寸统一\n",
    "        if (dim0<128 or dim1<128 or dim2<3):\n",
    "            print(\"图片错误\"+str(arr.shape))\n",
    "        arr=cv2.resize(arr,(128,128))\n",
    "        dim0=arr.shape[0]#新高度\n",
    "        dim1=arr.shape[1]#新宽度\n",
    "        dim2=arr.shape[2]#新深度\n",
    "        #确定修改完成\n",
    "        if (dim0!=128 or dim1!=128 or dim2!=3):\n",
    "            print(\"图片错误\"+str(arr.shape))\n",
    "        #print(arr)\n",
    "        arr = np.array(arr, dtype=\"float\") / 255.0\n",
    "        imageFileName = imageFileName.replace('.jpg','')\n",
    "        ImageValData [str(imageFileName)] = np.array(arr)\n",
    "    print('完成')\n",
    "    return\n",
    "\n",
    "print(\"读取数据\"+str(datetime.now()))\n",
    "sys.stdout.flush()\n",
    "loadTrainData(\"a. Training Set\")"
   ]
  },
  {
   "cell_type": "code",
   "execution_count": 19,
   "metadata": {},
   "outputs": [
    {
     "name": "stdout",
     "output_type": "stream",
     "text": [
      "共有413数据\n",
      "拥有2特征\n",
      "特征分为:['Image name', 'Retinopathy grade']\n",
      "完成\n"
     ]
    }
   ],
   "source": [
    "def loadValLabels():#读取标签\n",
    "    raw_df=pd.read_csv('a. IDRiD_Disease Grading_Training Labels.csv',sep=',',usecols=[0,1])\n",
    "    row_count=raw_df.shape[0]#数据总量\n",
    "    col_count=raw_df.shape[1]#列数\n",
    "    print(\"共有\"+str(row_count)+\"数据\\n\"+\"拥有\"+str(col_count)+\"特征\")\n",
    "    header_list=list(raw_df.columns)#检测特征含义\n",
    "    print(\"特征分为:\"+str(header_list))\n",
    "    return raw_df\n",
    "Val_label=loadValLabels()\n",
    "Val_keepImages =list(ImageValData.keys())\n",
    "print(\"完成\")"
   ]
  },
  {
   "cell_type": "code",
   "execution_count": 20,
   "metadata": {},
   "outputs": [
    {
     "name": "stdout",
     "output_type": "stream",
     "text": [
      "['Image name', 'data', 'Retinopathy grade']\n",
      "测试集有 413张图片\n",
      "完成\n"
     ]
    }
   ],
   "source": [
    "val_image_arr=[]\n",
    "val_data_arr=[]\n",
    "\n",
    "for index, row in Val_label.iterrows():\n",
    "    key = str(row[0])\n",
    "    if key in ImageValData:\n",
    "        val_image_arr.append(key)\n",
    "        val_data_arr.append(np.array(ImageValData [key]))\n",
    "Val_label2 = pd.DataFrame({'Image name': val_image_arr, 'data': val_data_arr})\n",
    "\n",
    "Val_label = pd.merge(Val_label2, Val_label, left_on='Image name', right_on='Image name', how='outer')\n",
    "label_header_list2 = list(Val_label.columns)\n",
    "\n",
    "print(label_header_list2)\n",
    "print('测试集有', str(len(Val_label))+\"张图片\")\n",
    "print(\"完成\")"
   ]
  },
  {
   "cell_type": "code",
   "execution_count": 21,
   "metadata": {},
   "outputs": [
    {
     "name": "stdout",
     "output_type": "stream",
     "text": [
      "  Image name                                               data  \\\n",
      "0  IDRiD_001  [[[0.011764705882352941, 0.011764705882352941,...   \n",
      "1  IDRiD_002  [[[0.03137254901960784, 0.0196078431372549, 0....   \n",
      "2  IDRiD_003  [[[0.011764705882352941, 0.011764705882352941,...   \n",
      "3  IDRiD_004  [[[0.011764705882352941, 0.011764705882352941,...   \n",
      "4  IDRiD_005  [[[0.011764705882352941, 0.011764705882352941,...   \n",
      "\n",
      "   Retinopathy grade  \n",
      "0                  3  \n",
      "1                  3  \n",
      "2                  2  \n",
      "3                  3  \n",
      "4                  4  \n",
      "完成\n"
     ]
    }
   ],
   "source": [
    "valset = Val_label.reset_index(drop=True)\n",
    "print(valset.head())\n",
    "print(\"完成\")"
   ]
  },
  {
   "cell_type": "code",
   "execution_count": 22,
   "metadata": {},
   "outputs": [
    {
     "name": "stdout",
     "output_type": "stream",
     "text": [
      "训练集为 413\n"
     ]
    }
   ],
   "source": [
    "valX = valset['data']\n",
    "valY = valset['Retinopathy grade']\n",
    "name = valset['Image name']\n",
    "print('训练集为', valX.shape[0])"
   ]
  },
  {
   "cell_type": "code",
   "execution_count": 25,
   "metadata": {},
   "outputs": [
    {
     "name": "stdout",
     "output_type": "stream",
     "text": [
      "TN:134\n",
      "TP:279\n",
      "FN:0\n",
      "FP:0\n",
      "准确率为0.9854721549636803\n",
      "召回率为1.0\n"
     ]
    }
   ],
   "source": [
    "from keras.models import load_model\n",
    "model = load_model('MobileNet.h5')\n",
    "T=0\n",
    "TP=0\n",
    "TN=0\n",
    "FN=0\n",
    "FP=0\n",
    "pre=np.zeros(413)\n",
    "for i in range(413):\n",
    "    arr = np.expand_dims(valX[i], axis=0)\n",
    "    preds = model.predict(arr)\n",
    "    if (preds[0,0]>preds[0,1])&(preds[0,0]>preds[0,2])&(preds[0,0]>preds[0,3])&(preds[0,0]>preds[0,4]):\n",
    "        pre[i]=0\n",
    "    elif (preds[0,1]>preds[0,0])&(preds[0,1]>preds[0,2])&(preds[0,1]>preds[0,3])&(preds[0,1]>preds[0,4]):\n",
    "        pre[i]=1\n",
    "    elif (preds[0,2]>preds[0,0])&(preds[0,2]>preds[0,1])&(preds[0,2]>preds[0,3])&(preds[0,2]>preds[0,4]):\n",
    "        pre[i]=2\n",
    "    elif (preds[0,3]>preds[0,0])&(preds[0,3]>preds[0,1])&(preds[0,3]>preds[0,2])&(preds[0,3]>preds[0,4]):\n",
    "        pre[i]=3\n",
    "    elif (preds[0,4]>preds[0,0])&(preds[0,4]>preds[0,1])&(preds[0,4]>preds[0,2])&(preds[0,4]>preds[0,3]):\n",
    "        pre[i]=4\n",
    "\n",
    "\n",
    "for i in range(413):\n",
    "    if (pre[i]==0)&(valY[i]!=0):\n",
    "        FN=FN+1\n",
    "    elif (pre[i]==0)&(valY[i]==0):\n",
    "        TN=TN+1\n",
    "    elif (pre[i]!=0)&(valY[i]==0):\n",
    "        FP=FP+1\n",
    "    elif (pre[i]!=0)&(valY[i]!=0):\n",
    "        TP=TP+1\n",
    "        \n",
    "for i in range(413):\n",
    "    if pre[i]==valY[i]:\n",
    "        T=T+1\n",
    "        \n",
    "        \n",
    "print('TN:'+str(TN))\n",
    "print('TP:'+str(TP))\n",
    "print('FN:'+str(FN))\n",
    "print('FP:'+str(FP))\n",
    "P=TP+FN\n",
    "print('准确率为'+str(T/413))\n",
    "print('召回率为'+str(TP/P))"
   ]
  },
  {
   "cell_type": "code",
   "execution_count": 6,
   "metadata": {},
   "outputs": [
    {
     "name": "stdout",
     "output_type": "stream",
     "text": [
      "TN:45\n",
      "TP:9\n",
      "FN:9\n",
      "FP:37\n",
      "准确率为0.54\n",
      "召回率为0.5\n"
     ]
    }
   ],
   "source": [
    "        \n",
    "for i in range(100):\n",
    "    if pre[i]==valY[i]:\n",
    "        T=T+1\n",
    "print('TN:'+str(TN))\n",
    "print('TP:'+str(TP))\n",
    "print('FN:'+str(FN))\n",
    "print('FP:'+str(FP))\n",
    "P=TP+FN\n",
    "print('准确率为'+str(T/100))\n",
    "print('召回率为'+str(TP/P))"
   ]
  },
  {
   "cell_type": "code",
   "execution_count": null,
   "metadata": {},
   "outputs": [],
   "source": []
  }
 ],
 "metadata": {
  "kernelspec": {
   "display_name": "Python 3",
   "language": "python",
   "name": "python3"
  },
  "language_info": {
   "codemirror_mode": {
    "name": "ipython",
    "version": 3
   },
   "file_extension": ".py",
   "mimetype": "text/x-python",
   "name": "python",
   "nbconvert_exporter": "python",
   "pygments_lexer": "ipython3",
   "version": "3.7.0"
  }
 },
 "nbformat": 4,
 "nbformat_minor": 2
}
